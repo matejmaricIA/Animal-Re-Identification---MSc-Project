{
 "cells": [
  {
   "cell_type": "code",
   "execution_count": 1,
   "metadata": {},
   "outputs": [],
   "source": [
    "import sys\n",
    "import cv2\n",
    "sys.path.append('../disk')"
   ]
  },
  {
   "cell_type": "code",
   "execution_count": 2,
   "metadata": {},
   "outputs": [
    {
     "name": "stderr",
     "output_type": "stream",
     "text": [
      "2025-01-14 21:09:15.162218: E external/local_xla/xla/stream_executor/cuda/cuda_fft.cc:477] Unable to register cuFFT factory: Attempting to register factory for plugin cuFFT when one has already been registered\n",
      "WARNING: All log messages before absl::InitializeLog() is called are written to STDERR\n",
      "E0000 00:00:1736885355.185256  177815 cuda_dnn.cc:8310] Unable to register cuDNN factory: Attempting to register factory for plugin cuDNN when one has already been registered\n",
      "E0000 00:00:1736885355.191101  177815 cuda_blas.cc:1418] Unable to register cuBLAS factory: Attempting to register factory for plugin cuBLAS when one has already been registered\n",
      "2025-01-14 21:09:15.212535: I tensorflow/core/platform/cpu_feature_guard.cc:210] This TensorFlow binary is optimized to use available CPU instructions in performance-critical operations.\n",
      "To enable the following instructions: AVX2 FMA, in other operations, rebuild TensorFlow with the appropriate compiler flags.\n"
     ]
    }
   ],
   "source": [
    "from disk import DISK\n",
    "import detect"
   ]
  },
  {
   "cell_type": "code",
   "execution_count": 3,
   "metadata": {},
   "outputs": [],
   "source": [
    "disk = DISK()"
   ]
  },
  {
   "cell_type": "code",
   "execution_count": 4,
   "metadata": {},
   "outputs": [],
   "source": [
    "dataset = detect.SceneDataset('../data/segmented_dataset/0/', crop_size = (640, 640))"
   ]
  },
  {
   "cell_type": "code",
   "execution_count": 5,
   "metadata": {},
   "outputs": [
    {
     "name": "stderr",
     "output_type": "stream",
     "text": [
      "/tmp/ipykernel_177815/2407649423.py:2: FutureWarning: You are using `torch.load` with `weights_only=False` (the current default value), which uses the default pickle module implicitly. It is possible to construct malicious pickle data which will execute arbitrary code during unpickling (See https://github.com/pytorch/pytorch/blob/main/SECURITY.md#untrusted-models for more details). In a future release, the default value for `weights_only` will be flipped to `True`. This limits the functions that could be executed during unpickling. Arbitrary objects will no longer be allowed to be loaded via this mode unless they are explicitly allowlisted by the user via `torch.serialization.add_safe_globals`. We recommend you start setting `weights_only=True` for any use case where you don't have full control of the loaded file. Please open an issue on GitHub for any issues related to this experimental feature.\n",
      "  state_dict = torch.load('../disk/depth-save.pth', map_location='cpu')\n"
     ]
    }
   ],
   "source": [
    "import torch\n",
    "state_dict = torch.load('../disk/depth-save.pth', map_location='cpu')"
   ]
  },
  {
   "cell_type": "code",
   "execution_count": 6,
   "metadata": {},
   "outputs": [],
   "source": [
    "weights = state_dict['extractor']"
   ]
  },
  {
   "cell_type": "code",
   "execution_count": 7,
   "metadata": {},
   "outputs": [],
   "source": [
    "model = DISK(window = 8, desc_dim=128)"
   ]
  },
  {
   "cell_type": "code",
   "execution_count": 8,
   "metadata": {},
   "outputs": [
    {
     "data": {
      "text/plain": [
       "<All keys matched successfully>"
      ]
     },
     "execution_count": 8,
     "metadata": {},
     "output_type": "execute_result"
    }
   ],
   "source": [
    "model.load_state_dict(weights)"
   ]
  },
  {
   "cell_type": "code",
   "execution_count": 9,
   "metadata": {},
   "outputs": [],
   "source": [
    "model = model.to(torch.device('cuda') if torch.cuda.is_available() else torch.device('cpu'))"
   ]
  },
  {
   "cell_type": "code",
   "execution_count": 10,
   "metadata": {},
   "outputs": [
    {
     "name": "stderr",
     "output_type": "stream",
     "text": [
      "100%|██████████| 12/12 [00:22<00:00,  1.91s/it, n=2161]\n"
     ]
    }
   ],
   "source": [
    "described_samples = detect.extract(dataset, '.', model)"
   ]
  },
  {
   "cell_type": "code",
   "execution_count": 11,
   "metadata": {},
   "outputs": [],
   "source": [
    "import pandas as pd"
   ]
  },
  {
   "cell_type": "code",
   "execution_count": 12,
   "metadata": {},
   "outputs": [
    {
     "data": {
      "text/html": [
       "<div>\n",
       "<style scoped>\n",
       "    .dataframe tbody tr th:only-of-type {\n",
       "        vertical-align: middle;\n",
       "    }\n",
       "\n",
       "    .dataframe tbody tr th {\n",
       "        vertical-align: top;\n",
       "    }\n",
       "\n",
       "    .dataframe thead th {\n",
       "        text-align: right;\n",
       "    }\n",
       "</style>\n",
       "<table border=\"1\" class=\"dataframe\">\n",
       "  <thead>\n",
       "    <tr style=\"text-align: right;\">\n",
       "      <th></th>\n",
       "      <th>image_id</th>\n",
       "      <th>identity</th>\n",
       "      <th>path</th>\n",
       "      <th>bbox</th>\n",
       "      <th>keypoints</th>\n",
       "      <th>original_split</th>\n",
       "      <th>processed_path</th>\n",
       "    </tr>\n",
       "  </thead>\n",
       "  <tbody>\n",
       "    <tr>\n",
       "      <th>0</th>\n",
       "      <td>0004d0b59e19461f</td>\n",
       "      <td>34</td>\n",
       "      <td>atrw_reid_train/train/001970.jpg</td>\n",
       "      <td>NaN</td>\n",
       "      <td>[326  77   2 283  86   2 331 141   2 210 174  ...</td>\n",
       "      <td>train</td>\n",
       "      <td>./data/segmented_dataset/34</td>\n",
       "    </tr>\n",
       "    <tr>\n",
       "      <th>1</th>\n",
       "      <td>000871c1fc726f0b</td>\n",
       "      <td>177</td>\n",
       "      <td>atrw_reid_train/train/004612.jpg</td>\n",
       "      <td>NaN</td>\n",
       "      <td>[127  57   2 144  82   2  93 149   2 264 183  ...</td>\n",
       "      <td>train</td>\n",
       "      <td>./data/segmented_dataset/177</td>\n",
       "    </tr>\n",
       "    <tr>\n",
       "      <th>2</th>\n",
       "      <td>00411460f7c92d21</td>\n",
       "      <td>112</td>\n",
       "      <td>atrw_reid_test/test/000363.jpg</td>\n",
       "      <td>NaN</td>\n",
       "      <td>[  0   0   0 537  28   2 562  77   2 437 135  ...</td>\n",
       "      <td>test</td>\n",
       "      <td>./data/segmented_dataset/112</td>\n",
       "    </tr>\n",
       "    <tr>\n",
       "      <th>3</th>\n",
       "      <td>0060ef47b12160b9</td>\n",
       "      <td>18</td>\n",
       "      <td>atrw_reid_test/test/003492.jpg</td>\n",
       "      <td>NaN</td>\n",
       "      <td>[0 0 0 0 0 0 0 0 0 0 0 0 0 0 0 0 0 0 0 0 0 0 0...</td>\n",
       "      <td>test</td>\n",
       "      <td>./data/segmented_dataset/18</td>\n",
       "    </tr>\n",
       "    <tr>\n",
       "      <th>4</th>\n",
       "      <td>006f52e9102a8d3b</td>\n",
       "      <td>19</td>\n",
       "      <td>atrw_reid_test/test/000168.jpg</td>\n",
       "      <td>NaN</td>\n",
       "      <td>[1345  170    2 1520  238    2 1471  400    2 ...</td>\n",
       "      <td>test</td>\n",
       "      <td>./data/segmented_dataset/19</td>\n",
       "    </tr>\n",
       "  </tbody>\n",
       "</table>\n",
       "</div>"
      ],
      "text/plain": [
       "           image_id  identity                              path  bbox  \\\n",
       "0  0004d0b59e19461f        34  atrw_reid_train/train/001970.jpg   NaN   \n",
       "1  000871c1fc726f0b       177  atrw_reid_train/train/004612.jpg   NaN   \n",
       "2  00411460f7c92d21       112    atrw_reid_test/test/000363.jpg   NaN   \n",
       "3  0060ef47b12160b9        18    atrw_reid_test/test/003492.jpg   NaN   \n",
       "4  006f52e9102a8d3b        19    atrw_reid_test/test/000168.jpg   NaN   \n",
       "\n",
       "                                           keypoints original_split  \\\n",
       "0  [326  77   2 283  86   2 331 141   2 210 174  ...          train   \n",
       "1  [127  57   2 144  82   2  93 149   2 264 183  ...          train   \n",
       "2  [  0   0   0 537  28   2 562  77   2 437 135  ...           test   \n",
       "3  [0 0 0 0 0 0 0 0 0 0 0 0 0 0 0 0 0 0 0 0 0 0 0...           test   \n",
       "4  [1345  170    2 1520  238    2 1471  400    2 ...           test   \n",
       "\n",
       "                 processed_path  \n",
       "0   ./data/segmented_dataset/34  \n",
       "1  ./data/segmented_dataset/177  \n",
       "2  ./data/segmented_dataset/112  \n",
       "3   ./data/segmented_dataset/18  \n",
       "4   ./data/segmented_dataset/19  "
      ]
     },
     "execution_count": 12,
     "metadata": {},
     "output_type": "execute_result"
    }
   ],
   "source": [
    "pd.read_csv('../data/processed_metadata.csv').head()"
   ]
  },
  {
   "cell_type": "code",
   "execution_count": null,
   "metadata": {},
   "outputs": [],
   "source": []
  }
 ],
 "metadata": {
  "kernelspec": {
   "display_name": "venv",
   "language": "python",
   "name": "python3"
  },
  "language_info": {
   "codemirror_mode": {
    "name": "ipython",
    "version": 3
   },
   "file_extension": ".py",
   "mimetype": "text/x-python",
   "name": "python",
   "nbconvert_exporter": "python",
   "pygments_lexer": "ipython3",
   "version": "3.10.12"
  }
 },
 "nbformat": 4,
 "nbformat_minor": 2
}
