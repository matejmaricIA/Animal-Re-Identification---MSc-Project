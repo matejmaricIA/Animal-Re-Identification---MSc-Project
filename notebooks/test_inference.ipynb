{
 "cells": [
  {
   "cell_type": "code",
   "execution_count": null,
   "metadata": {},
   "outputs": [],
   "source": [
    "import numpy as np\n",
    "import torch\n",
    "from sklearn.metrics.pairwise import cosine_similarity\n",
    "import cv2\n",
    "\n",
    "\n"
   ]
  },
  {
   "cell_type": "code",
   "execution_count": 1,
   "metadata": {},
   "outputs": [],
   "source": [
    "from sklearn.metrics.pairwise import cosine_similarity\n",
    "import numpy as np\n",
    "\n",
    "def compute_cosine_distance(query_vector, database_vectors):\n",
    "\n",
    "    # Normalize vectors to unit length for cosine similarity\n",
    "    query_vector = query_vector / np.linalg.norm(query_vector)\n",
    "    database_vectors = database_vectors / np.linalg.norm(database_vectors, axis=1, keepdims=True)\n",
    "\n",
    "    similarities = cosine_similarity(query_vector.reshape(1, -1), database_vectors).flatten()\n",
    "    distances = 1 - similarities\n",
    "\n",
    "    return distances"
   ]
  }
 ],
 "metadata": {
  "kernelspec": {
   "display_name": "venv",
   "language": "python",
   "name": "python3"
  },
  "language_info": {
   "codemirror_mode": {
    "name": "ipython",
    "version": 3
   },
   "file_extension": ".py",
   "mimetype": "text/x-python",
   "name": "python",
   "nbconvert_exporter": "python",
   "pygments_lexer": "ipython3",
   "version": "3.12.3"
  }
 },
 "nbformat": 4,
 "nbformat_minor": 2
}
